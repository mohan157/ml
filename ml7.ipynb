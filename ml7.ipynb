{
  "nbformat": 4,
  "nbformat_minor": 0,
  "metadata": {
    "colab": {
      "provenance": []
    },
    "kernelspec": {
      "name": "python3",
      "display_name": "Python 3"
    },
    "language_info": {
      "name": "python"
    }
  },
  "cells": [
    {
      "cell_type": "code",
      "execution_count": null,
      "metadata": {
        "colab": {
          "base_uri": "https://localhost:8080/"
        },
        "id": "YDY4-omU4g5t",
        "outputId": "35ed3fcd-f24f-4d3d-f482-a64382b98b55"
      },
      "outputs": [
        {
          "output_type": "stream",
          "name": "stdout",
          "text": [
            "b1: 2.2572786186088454 b0: 3.4818859195435516\n"
          ]
        }
      ],
      "source": [
        "import numpy as np\n",
        "X = np.asarray([20, 5, 10, 13, 12])\n",
        "Y = np.asarray([44, 22, 25, 32, 37])\n",
        "\n",
        "b1 = 0\n",
        "b0 = 0\n",
        "L = 0.001\n",
        "epochs = 1000\n",
        "n = np.size(X)\n",
        "\n",
        "for i in range(epochs):\n",
        "    Y_pred = b1 * X + b0\n",
        "    D_b1 = (-2 / n) * sum(X * (Y - Y_pred))\n",
        "    D_b0 = (-2 / n) * sum((Y - Y_pred))\n",
        "    b1 = b1 - L * D_b1\n",
        "    b0 = b0 - L * D_b0\n",
        "\n",
        "print(\"b1:\", b1, \"b0:\", b0)"
      ]
    }
  ]
}